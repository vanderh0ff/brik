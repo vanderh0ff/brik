{
 "cells": [
  {
   "cell_type": "code",
   "execution_count": 24,
   "id": "f61f184e",
   "metadata": {},
   "outputs": [],
   "source": [
    "from pymongo import MongoClient\n",
    "import urllib.parse\n",
    "from openpyxl import load_workbook"
   ]
  },
  {
   "cell_type": "code",
   "execution_count": 18,
   "id": "e5f2f020",
   "metadata": {},
   "outputs": [],
   "source": [
    "username = urllib.parse.quote_plus('root')\n",
    "password = urllib.parse.quote_plus('schooltime')\n",
    "\n",
    "client = MongoClient('mongodb://%s:%s@127.0.0.1' % (username, password))\n",
    "db = client.brik\n",
    "collection = db.tasks\n",
    "task = {\n",
    "    \"type\": \"lab\",\n",
    "    \"weight\": 3,\n",
    "    \"class\": \"5th grade math\",\n",
    "    \"grade\": 5,\n",
    "    \"subject\": \"math\"\n",
    "}\n",
    "adhock_task = db.tasks.insert_one(task)"
   ]
  },
  {
   "cell_type": "code",
   "execution_count": 20,
   "id": "ddd59c55",
   "metadata": {},
   "outputs": [
    {
     "data": {
      "text/plain": [
       "{'_id': ObjectId('62db5a666ffb048d72927d05'),\n",
       " 'type': 'lab',\n",
       " 'weight': 3,\n",
       " 'class': '5th grade math',\n",
       " 'grade': 5,\n",
       " 'subject': 'math'}"
      ]
     },
     "execution_count": 20,
     "metadata": {},
     "output_type": "execute_result"
    }
   ],
   "source": [
    "collection.find_one({\"subject\":\"math\"})"
   ]
  },
  {
   "cell_type": "code",
   "execution_count": 97,
   "id": "7ddffbaf",
   "metadata": {},
   "outputs": [],
   "source": [
    "wb = load_workbook(filename = \"test-data/bf65d610-e3a5-4870-ab7d-d01db2419fff.xlsx\", read_only=True)\n",
    "ws = wb.active"
   ]
  },
  {
   "cell_type": "code",
   "execution_count": 155,
   "id": "d62f58f9",
   "metadata": {},
   "outputs": [],
   "source": [
    "tasks = []\n",
    "total_tasks = 0\n",
    "in_chapter = False\n",
    "last_lesson = None\n",
    "last_chapter = None\n",
    "for row in ws.rows:\n",
    "    if \"Grade\" in repr(row[0].value):\n",
    "        total_tasks += int(row[0].value.split(':')[2])\n",
    "    if \"Chapter\" in repr(row[0].value):\n",
    "        if \"Test\" not in row[0].value:\n",
    "            last_chapter = row[0].value\n",
    "            in_chapter = True\n",
    "            continue\n",
    "    if in_chapter:\n",
    "        if row[0].value == \"Worksheet\":\n",
    "            continue\n",
    "        if \"Lesson:\" in repr(row[0].value):\n",
    "            last_lesson = row[0].value\n",
    "            continue\n",
    "        elif \"Week of:\" in repr(row[0].value):\n",
    "            in_chapter = False\n",
    "        else:\n",
    "            tasks.append({\"task\":row[0].value,\n",
    "                          \"lesson\":last_lesson,\n",
    "                          \"chapter\":last_chapter})"
   ]
  },
  {
   "cell_type": "code",
   "execution_count": 156,
   "id": "c8e0fd07",
   "metadata": {},
   "outputs": [
    {
     "data": {
      "text/plain": [
       "49"
      ]
     },
     "execution_count": 156,
     "metadata": {},
     "output_type": "execute_result"
    }
   ],
   "source": [
    "len(tasks)"
   ]
  },
  {
   "cell_type": "code",
   "execution_count": 153,
   "id": "7b3700f0",
   "metadata": {},
   "outputs": [
    {
     "data": {
      "text/plain": [
       "{'task': 'The Products You Buy',\n",
       " 'lesson': 'Lesson: Wants & Needs',\n",
       " 'chapter': 'Chapter 6: Economics'}"
      ]
     },
     "execution_count": 153,
     "metadata": {},
     "output_type": "execute_result"
    }
   ],
   "source": [
    "import random\n",
    "random.choice(tasks)"
   ]
  },
  {
   "cell_type": "code",
   "execution_count": 154,
   "id": "44b8a547",
   "metadata": {},
   "outputs": [
    {
     "data": {
      "text/plain": [
       "49"
      ]
     },
     "execution_count": 154,
     "metadata": {},
     "output_type": "execute_result"
    }
   ],
   "source": [
    "total_tasks"
   ]
  },
  {
   "cell_type": "code",
   "execution_count": null,
   "id": "c200883b",
   "metadata": {},
   "outputs": [],
   "source": []
  }
 ],
 "metadata": {
  "kernelspec": {
   "display_name": "Python 3 (ipykernel)",
   "language": "python",
   "name": "python3"
  },
  "language_info": {
   "codemirror_mode": {
    "name": "ipython",
    "version": 3
   },
   "file_extension": ".py",
   "mimetype": "text/x-python",
   "name": "python",
   "nbconvert_exporter": "python",
   "pygments_lexer": "ipython3",
   "version": "3.10.5"
  }
 },
 "nbformat": 4,
 "nbformat_minor": 5
}
