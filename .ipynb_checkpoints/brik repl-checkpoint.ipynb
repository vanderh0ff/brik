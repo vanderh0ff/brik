{
 "cells": [
  {
   "cell_type": "code",
   "execution_count": 1,
   "id": "f61f184e",
   "metadata": {},
   "outputs": [],
   "source": [
    "from pymongo import MongoClient\n",
    "import urllib.parse\n",
    "from openpyxl import load_workbook\n",
    "import os\n",
    "import sys"
   ]
  },
  {
   "cell_type": "code",
   "execution_count": 71,
   "id": "e5f2f020",
   "metadata": {},
   "outputs": [],
   "source": [
    "username = urllib.parse.quote_plus('root')\n",
    "password = urllib.parse.quote_plus('schooltime')\n",
    "\n",
    "client = MongoClient('mongodb://%s:%s@127.0.0.1' % (username, password))\n",
    "db = client.brik\n",
    "collection = db.tasks"
   ]
  },
  {
   "cell_type": "code",
   "execution_count": 72,
   "id": "ddd59c55",
   "metadata": {},
   "outputs": [],
   "source": [
    "data_path = 'test-data'\n",
    "data_files = os.listdir(data_path)\n",
    "for data_file in data_files:\n",
    "    tasks = extract_with_preprocess(os.path.join(data_path, data_file))\n",
    "    collection.insert_many(tasks)"
   ]
  },
  {
   "cell_type": "code",
   "execution_count": 67,
   "id": "7ddffbaf",
   "metadata": {},
   "outputs": [],
   "source": [
    "def extract_tasks(data_file):\n",
    "    wb = load_workbook(filename=data_file, read_only=True)\n",
    "    ws = wb.active\n",
    "    tasks = []\n",
    "    total_tasks = 0\n",
    "    in_chapter = False\n",
    "    last_lesson = None\n",
    "    last_chapter = None\n",
    "    for row in ws.rows:\n",
    "        if \"Grade\" in repr(row[0].value):\n",
    "            total_tasks += int(row[0].value.split(':')[2])\n",
    "        if \"Chapter\" in repr(row[0].value):\n",
    "            if \"Test\" not in row[0].value:\n",
    "                last_chapter = row[0].value\n",
    "                in_chapter = True\n",
    "                continue\n",
    "        if in_chapter:\n",
    "            if row[0].value == \"Worksheet\":\n",
    "                continue\n",
    "            if \"Lesson:\" in repr(row[0].value):\n",
    "                last_lesson = row[0].value\n",
    "                continue\n",
    "            elif \"Week of:\" in repr(row[0].value):\n",
    "                in_chapter = False\n",
    "            else:\n",
    "                tasks.append({\"task\":row[0].value,\n",
    "                              \"lesson\":last_lesson,\n",
    "                              \"chapter\":last_chapter})\n",
    "    wb.close()\n",
    "    return tasks\n",
    "\n",
    "def extract_tasks_by_week(data_file):\n",
    "    wb = load_workbook(filename=data_file, read_only=True)\n",
    "    ws = wb.active\n",
    "    tasks = []\n",
    "    working_rows = ws.rows\n",
    "    working_rows_values = list(map(lambda x: x[0].value, working_rows))\n",
    "    working_rows_values = list(filter(lambda y: y != None, working_rows_values))\n",
    "    weeks = []\n",
    "    week_boundries = find_value_bounds(\"Week\", working_rows_values)\n",
    "    for i in range(len(week_boundries) - 1):\n",
    "        weeks.append(working_rows_values[week_boundries[i]+1:week_boundries[i+1]])\n",
    "    for week in weeks:\n",
    "        subject = week[0]\n",
    "        grade = week[1].split(\"|\")[0].strip()\n",
    "        chapter = week[2]\n",
    "        current_lesson = \"\"\n",
    "        for item in week[3:]:\n",
    "            if \"Lesson:\" in item:\n",
    "                current_lesson = item\n",
    "                continue\n",
    "            else:\n",
    "                tasks.append({\n",
    "                \"subject\": subject,\n",
    "                \"lesson\": current_lesson,\n",
    "                \"grade\": grade,\n",
    "                \"chapter\": chapter,\n",
    "                \"task\": item\n",
    "                })\n",
    "    return tasks\n",
    "\n",
    "def find_value_bounds(value, array):\n",
    "    bounds = []\n",
    "    for i in range(len(array)):\n",
    "        if value in array[i]:\n",
    "            bounds.append(i)\n",
    "    return bounds\n",
    "\n",
    "def split_by_bounds(bounds, array):\n",
    "    split_arrays = []\n",
    "    for i in range(len(bounds) - 1):\n",
    "        split_arrays.append(array[bounds[i]:bounds[i+1]])\n",
    "    split_arrays.append(array[bounds[-1]:])\n",
    "    return split_arrays\n",
    "\n",
    "def extract_with_preprocess(data_file):\n",
    "    wb = load_workbook(filename=data_file, read_only=True)\n",
    "    ws = wb.active\n",
    "    tasks = []\n",
    "    # get first collumn of each row\n",
    "    working_rows = ws.rows\n",
    "    working_rows_values = list(map(lambda x: x[0].value, working_rows))\n",
    "    # remove all null values\n",
    "    working_rows_values = list(filter(lambda y: y != None, working_rows_values))\n",
    "    # extract repeated info then delete\n",
    "    subject = working_rows_values[1]\n",
    "    grade = working_rows_values[2].split(\"|\")[0].strip()\n",
    "    working_rows_values = list(filter(lambda y: y != subject and grade not in y and \"Week of:\" not in y, working_rows_values))\n",
    "    # find all chapter bounds\n",
    "    chapter_bounds = find_value_bounds('Chapter', working_rows_values)\n",
    "    chapters = split_by_bounds(chapter_bounds, working_rows_values)\n",
    "    # extract tasks with lesson info\n",
    "    for chapter in chapters:\n",
    "        current_lesson = \"\"\n",
    "        for item in chapter[1:]:\n",
    "            if \"Lesson:\" in item:\n",
    "                current_lesson = item\n",
    "                continue\n",
    "            else:\n",
    "                tasks.append({\n",
    "                \"subject\": subject,\n",
    "                \"lesson\": current_lesson,\n",
    "                \"grade\": grade,\n",
    "                \"chapter\": chapter[0],\n",
    "                \"task\": item\n",
    "                })\n",
    "    return tasks"
   ]
  },
  {
   "cell_type": "code",
   "execution_count": 129,
   "id": "d62f58f9",
   "metadata": {},
   "outputs": [],
   "source": [
    "science_tasks = collection.find({'subject':'MS Physical Science'})"
   ]
  },
  {
   "cell_type": "code",
   "execution_count": 144,
   "id": "c8e0fd07",
   "metadata": {},
   "outputs": [],
   "source": []
  },
  {
   "cell_type": "code",
   "execution_count": 146,
   "id": "7b3700f0",
   "metadata": {},
   "outputs": [
    {
     "ename": "StopIteration",
     "evalue": "",
     "output_type": "error",
     "traceback": [
      "\u001b[0;31m---------------------------------------------------------------------------\u001b[0m",
      "\u001b[0;31mStopIteration\u001b[0m                             Traceback (most recent call last)",
      "Input \u001b[0;32mIn [146]\u001b[0m, in \u001b[0;36m<cell line: 1>\u001b[0;34m()\u001b[0m\n\u001b[0;32m----> 1\u001b[0m \u001b[43mindexes\u001b[49m\u001b[38;5;241;43m.\u001b[39;49m\u001b[43mnext\u001b[49m\u001b[43m(\u001b[49m\u001b[43m)\u001b[49m\n",
      "File \u001b[0;32m~/.local/share/virtualenvs/brik-6dMTBymQ/lib/python3.10/site-packages/pymongo/command_cursor.py:288\u001b[0m, in \u001b[0;36mCommandCursor.next\u001b[0;34m(self)\u001b[0m\n\u001b[1;32m    285\u001b[0m     \u001b[38;5;28;01mif\u001b[39;00m doc \u001b[38;5;129;01mis\u001b[39;00m \u001b[38;5;129;01mnot\u001b[39;00m \u001b[38;5;28;01mNone\u001b[39;00m:\n\u001b[1;32m    286\u001b[0m         \u001b[38;5;28;01mreturn\u001b[39;00m doc\n\u001b[0;32m--> 288\u001b[0m \u001b[38;5;28;01mraise\u001b[39;00m \u001b[38;5;167;01mStopIteration\u001b[39;00m\n",
      "\u001b[0;31mStopIteration\u001b[0m: "
     ]
    }
   ],
   "source": [
    "indexes.next()"
   ]
  },
  {
   "cell_type": "code",
   "execution_count": 154,
   "id": "44b8a547",
   "metadata": {},
   "outputs": [
    {
     "data": {
      "text/plain": [
       "49"
      ]
     },
     "execution_count": 154,
     "metadata": {},
     "output_type": "execute_result"
    }
   ],
   "source": [
    "total_tasks"
   ]
  },
  {
   "cell_type": "code",
   "execution_count": null,
   "id": "c200883b",
   "metadata": {},
   "outputs": [],
   "source": []
  }
 ],
 "metadata": {
  "kernelspec": {
   "display_name": "Python 3 (ipykernel)",
   "language": "python",
   "name": "python3"
  },
  "language_info": {
   "codemirror_mode": {
    "name": "ipython",
    "version": 3
   },
   "file_extension": ".py",
   "mimetype": "text/x-python",
   "name": "python",
   "nbconvert_exporter": "python",
   "pygments_lexer": "ipython3",
   "version": "3.10.5"
  }
 },
 "nbformat": 4,
 "nbformat_minor": 5
}
