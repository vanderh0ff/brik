{
 "cells": [
  {
   "cell_type": "code",
   "execution_count": 313,
   "id": "f61f184e",
   "metadata": {},
   "outputs": [],
   "source": [
    "from pymongo import MongoClient\n",
    "import urllib.parse\n",
    "from openpyxl import load_workbook\n",
    "import os\n",
    "import sys"
   ]
  },
  {
   "cell_type": "code",
   "execution_count": 315,
   "id": "e5f2f020",
   "metadata": {},
   "outputs": [],
   "source": [
    "username = urllib.parse.quote_plus('root')\n",
    "password = urllib.parse.quote_plus('schooltime')\n",
    "\n",
    "client = MongoClient('mongodb://%s:%s@127.0.0.1' % (username, password))\n",
    "db = client.brik\n",
    "collection = db.tasks\n",
    "db.tasks.drop()"
   ]
  },
  {
   "cell_type": "code",
   "execution_count": 316,
   "id": "ddd59c55",
   "metadata": {},
   "outputs": [],
   "source": [
    "data_path = 'test-data'\n",
    "data_files = os.listdir(data_path)\n",
    "for data_file in data_files:\n",
    "    tasks = extract_with_preprocess(os.path.join(data_path, data_file))\n",
    "    collection.insert_many(tasks)"
   ]
  },
  {
   "cell_type": "code",
   "execution_count": 51,
   "id": "7ddffbaf",
   "metadata": {},
   "outputs": [],
   "source": [
    "def extract_tasks(data_file):\n",
    "    wb = load_workbook(filename=data_file, read_only=True)\n",
    "    ws = wb.active\n",
    "    tasks = []\n",
    "    total_tasks = 0\n",
    "    in_chapter = False\n",
    "    last_lesson = None\n",
    "    last_chapter = None\n",
    "    for row in ws.rows:\n",
    "        if \"Grade\" in repr(row[0].value):\n",
    "            total_tasks += int(row[0].value.split(':')[2])\n",
    "        if \"Chapter\" in repr(row[0].value):\n",
    "            if \"Test\" not in row[0].value:\n",
    "                last_chapter = row[0].value\n",
    "                in_chapter = True\n",
    "                continue\n",
    "        if in_chapter:\n",
    "            if row[0].value == \"Worksheet\":\n",
    "                continue\n",
    "            if \"Lesson:\" in repr(row[0].value):\n",
    "                last_lesson = row[0].value\n",
    "                continue\n",
    "            elif \"Week of:\" in repr(row[0].value):\n",
    "                in_chapter = False\n",
    "            else:\n",
    "                tasks.append({\"task\":row[0].value,\n",
    "                              \"lesson\":last_lesson,\n",
    "                              \"chapter\":last_chapter})\n",
    "    wb.close()\n",
    "    return tasks\n",
    "\n",
    "def extract_tasks_by_week(data_file):\n",
    "    wb = load_workbook(filename=data_file, read_only=True)\n",
    "    ws = wb.active\n",
    "    tasks = []\n",
    "    working_rows = ws.rows\n",
    "    working_rows_values = list(map(lambda x: x[0].value, working_rows))\n",
    "    working_rows_values = list(filter(lambda y: y != None, working_rows_values))\n",
    "    weeks = []\n",
    "    week_boundries = find_value_bounds(\"Week\", working_rows_values)\n",
    "    for i in range(len(week_boundries) - 1):\n",
    "        weeks.append(working_rows_values[week_boundries[i]+1:week_boundries[i+1]])\n",
    "    for week in weeks:\n",
    "        subject = week[0]\n",
    "        grade = week[1].split(\"|\")[0].strip()\n",
    "        chapter = week[2]\n",
    "        current_lesson = \"\"\n",
    "        for item in week[3:]:\n",
    "            if \"Lesson:\" in item:\n",
    "                current_lesson = item\n",
    "                continue\n",
    "            else:\n",
    "                tasks.append({\n",
    "                \"subject\": subject,\n",
    "                \"lesson\": current_lesson,\n",
    "                \"grade\": grade,\n",
    "                \"chapter\": chapter,\n",
    "                \"task\": item\n",
    "                })\n",
    "    return tasks\n",
    "\n",
    "def find_value_bounds(value, array):\n",
    "    bounds = []\n",
    "    for i in range(len(array)):\n",
    "        if value in array[i]:\n",
    "            bounds.append(i)\n",
    "    return bounds\n",
    "\n",
    "def split_by_bounds(bounds, array):\n",
    "    split_arrays = []\n",
    "    for i in range(len(bounds) - 1):\n",
    "        split_arrays.append(array[bounds[i]:bounds[i+1]])\n",
    "    split_arrays.append(array[bounds[-1]:])\n",
    "    return split_arrays\n",
    "\n",
    "def extract_with_preprocess(data_file):\n",
    "    wb = load_workbook(filename=data_file, read_only=True)\n",
    "    ws = wb.active\n",
    "    tasks = []\n",
    "    # get first collumn of each row\n",
    "    working_rows = ws.rows\n",
    "    working_rows_values = list(map(lambda x: x[0].value, working_rows))\n",
    "    # remove all null values\n",
    "    working_rows_values = list(filter(lambda y: y != None, working_rows_values))\n",
    "    # extract repeated info then delete\n",
    "    subject = working_rows_values[1]\n",
    "    grade = working_rows_values[2].split(\"|\")[0].strip()\n",
    "    working_rows_values = list(filter(lambda y: y != subject and grade not in y and \"Week of:\" not in y, working_rows_values))\n",
    "    # find all chapter bounds\n",
    "    chapter_bounds = find_value_bounds('Chapter', working_rows_values)\n",
    "    chapters = split_by_bounds(chapter_bounds, working_rows_values)\n",
    "    # extract tasks with lesson info\n",
    "    order = 0\n",
    "    for chapter in chapters:\n",
    "        current_lesson = \"\"\n",
    "        for item in chapter[1:]:\n",
    "            if \"Lesson:\" in item:\n",
    "                current_lesson = item\n",
    "                continue\n",
    "            else:\n",
    "                tasks.append({\n",
    "                \"subject\": subject,\n",
    "                \"lesson\": current_lesson,\n",
    "                \"grade\": grade,\n",
    "                \"chapter\": chapter[0],\n",
    "                \"task\": item,\n",
    "                \"completed\": False,\n",
    "                \"weight\": 3 if ('lab' in item.lower()) else 1,\n",
    "                \"order\": order\n",
    "                })\n",
    "                order += 1\n",
    "    return tasks"
   ]
  },
  {
   "cell_type": "code",
   "execution_count": 156,
   "id": "d62f58f9",
   "metadata": {},
   "outputs": [],
   "source": [
    "# how to schedule\n",
    "# see how many classes need to be done\n",
    "# see how many days each class has\n",
    "# see how many tasks each day can have\n",
    "# get start date\n",
    "\n",
    "# differnt ways to schedule\n",
    "# have a target start and end date and evenly distribute tasks \n",
    "# have a start and ideal task density then calculate how long it will take\n",
    "db.week.drop()\n",
    "week = {\n",
    "        'monday': {'max_tasks':12},\n",
    "        'tuesday': {'max_tasks':12},\n",
    "        'wednesday': {'max_tasks':12},   \n",
    "        'thursday': {'max_tasks':12},\n",
    "        'friday': {'max_tasks':12},   \n",
    "        'saturday': {'max_tasks':12},   \n",
    "        'sunday': {'max_tasks':0}    \n",
    "        }\n",
    "\n",
    "for day in week:\n",
    "    db.week.insert_one({day : week[day]})\n"
   ]
  },
  {
   "cell_type": "code",
   "execution_count": 319,
   "id": "c8e0fd07",
   "metadata": {
    "scrolled": true
   },
   "outputs": [],
   "source": [
    "import datetime\n",
    "today = datetime.date.today()\n",
    "current_day = 0\n",
    "daily_tasks = []\n",
    "current_weight = 0\n",
    "science_tasks = collection.find({'subject':'MS Physical Science'})\n",
    "lw = list(week)\n",
    "while True:\n",
    "    try:\n",
    "        task = science_tasks.next()\n",
    "        daily_tasks.append(task)\n",
    "        current_weight += task['weight']\n",
    "        if current_weight > week[lw[current_day%7]]['max_tasks']:\n",
    "            current_day += 1\n",
    "            current_weight = 0\n",
    "        daily_tasks[-1]['scheduled_for'] = today + datetime.timedelta(days=current_day)\n",
    "    except:\n",
    "        break\n",
    "    "
   ]
  },
  {
   "cell_type": "code",
   "execution_count": 318,
   "id": "7b3700f0",
   "metadata": {},
   "outputs": [],
   "source": [
    "for task in daily_tasks:\n",
    "    query = {'_id':task['_id']}\n",
    "    update = {\"$set\":{'scheduled_for':datetime.datetime.combine(task['scheduled_for'],datetime.time.min)}}\n",
    "    db.tasks.update_one(query,update)"
   ]
  },
  {
   "cell_type": "code",
   "execution_count": 299,
   "id": "44b8a547",
   "metadata": {},
   "outputs": [],
   "source": [
    "this_week = db.tasks.find({'scheduled_for': { '$lt': datetime.datetime.today() + datetime.timedelta(days=7)}})"
   ]
  },
  {
   "cell_type": "code",
   "execution_count": 308,
   "id": "7013e619",
   "metadata": {},
   "outputs": [
    {
     "data": {
      "text/plain": [
       "0"
      ]
     },
     "execution_count": 308,
     "metadata": {},
     "output_type": "execute_result"
    }
   ],
   "source": [
    "this_week = this_week.rewind()\n",
    "this_week.retrieved"
   ]
  },
  {
   "cell_type": "code",
   "execution_count": 307,
   "id": "c198d27c",
   "metadata": {},
   "outputs": [],
   "source": [
    "x = 0\n",
    "for x in range(this_week.retrieved - 1):\n",
    "    task = this_week.next()\n",
    "    print(f\"{task['subject']}, {task['lesson']}, {task['chapter']}, {task['scheduled_for']}\")"
   ]
  },
  {
   "cell_type": "code",
   "execution_count": null,
   "id": "e63d4265",
   "metadata": {},
   "outputs": [],
   "source": []
  },
  {
   "cell_type": "code",
   "execution_count": 297,
   "id": "8d64c189",
   "metadata": {},
   "outputs": [
    {
     "data": {
      "text/plain": [
       "{'_id': ObjectId('62e58ae1a05656d12a32dc56'),\n",
       " 'subject': 'MS Physical Science',\n",
       " 'lesson': 'Lesson: Chemical Bonding',\n",
       " 'grade': 'Middle School',\n",
       " 'chapter': 'Chapter 3: Bonding',\n",
       " 'task': 'Assignment: Describe chemical bonds.',\n",
       " 'completed': False,\n",
       " 'weight': 1,\n",
       " 'order': 84,\n",
       " 'scheduled_for': datetime.datetime(2022, 8, 6, 0, 0)}"
      ]
     },
     "execution_count": 297,
     "metadata": {},
     "output_type": "execute_result"
    }
   ],
   "source": [
    "task"
   ]
  },
  {
   "cell_type": "code",
   "execution_count": null,
   "id": "5a35d373",
   "metadata": {},
   "outputs": [],
   "source": []
  }
 ],
 "metadata": {
  "kernelspec": {
   "display_name": "Python 3 (ipykernel)",
   "language": "python",
   "name": "python3"
  },
  "language_info": {
   "codemirror_mode": {
    "name": "ipython",
    "version": 3
   },
   "file_extension": ".py",
   "mimetype": "text/x-python",
   "name": "python",
   "nbconvert_exporter": "python",
   "pygments_lexer": "ipython3",
   "version": "3.10.5"
  }
 },
 "nbformat": 4,
 "nbformat_minor": 5
}
